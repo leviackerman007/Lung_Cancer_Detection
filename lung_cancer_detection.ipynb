{
 "cells": [
  {
   "cell_type": "code",
   "execution_count": 1,
   "id": "16878095-64a9-47be-bd67-f2bdddf42169",
   "metadata": {},
   "outputs": [],
   "source": [
    "import pandas as pd\n",
    "import numpy as np\n",
    "import matplotlib.pyplot as plt\n",
    "from tensorflow.keras.applications.vgg16 import preprocess_input\n",
    "from tensorflow.keras.applications import VGG16\n",
    "from tensorflow.keras.preprocessing.image import img_to_array, load_img\n",
    "from tqdm import tqdm\n",
    "from sklearn.model_selection import train_test_split\n",
    "import os\n",
    "from sklearn.metrics import accuracy_score\n",
    "from sklearn.cluster import KMeans"
   ]
  },
  {
   "cell_type": "markdown",
   "id": "6aba61ce-4ee5-4362-a58c-34ce674ee86d",
   "metadata": {},
   "source": [
    "#### Funtion to retrieve from the folder having structure\n",
    "data/\n",
    "    train/\n",
    "        class1/\n",
    "            image1.png\n",
    "            .\n",
    "            .\n",
    "        class2/\n",
    "            .\n",
    "            .\n",
    "    test/\n",
    "        .\n",
    "    valid/\n",
    "        .\n"
   ]
  },
  {
   "cell_type": "code",
   "execution_count": 2,
   "id": "23071075-c4d9-4510-a633-b9a9b52598b3",
   "metadata": {},
   "outputs": [],
   "source": [
    "def load_data(main_foler_path):\n",
    "    images=[]\n",
    "    labels=[]\n",
    "    \n",
    "    for data_type in os.listdir(main_foler_path):\n",
    "        type_foler_path=os.path.join(main_foler_path,data_type)\n",
    "        \n",
    "        if not os.path.isdir(type_foler_path):\n",
    "            continue\n",
    "        for class_folder in os.listdir(type_foler_path):\n",
    "            if class_folder.startswith('.'):\n",
    "                continue\n",
    "                \n",
    "            class_folder_path=os.path.join(type_foler_path,class_folder)\n",
    "\n",
    "            if not os.path.isdir(class_folder_path):\n",
    "                continue\n",
    "\n",
    "            for filename in tqdm(os.listdir(class_folder_path)):\n",
    "                if filename.endswith(\".png\") or filename.endswith(\".jpg\") or filename.endswith(\".jpeg\"):\n",
    "                    image_path=os.path.join(class_folder_path,filename)\n",
    "                    img=load_img(image_path,target_size=(224,224))\n",
    "                    img=img_to_array(img)\n",
    "                    label=class_folder\n",
    "\n",
    "                    images.append(img)\n",
    "                    labels.append(label)\n",
    "    return np.array(images),np.array(labels)"
   ]
  },
  {
   "cell_type": "markdown",
   "id": "09deb764-6c2f-446b-9232-a6e3a34776ef",
   "metadata": {},
   "source": [
    "#### Images folder"
   ]
  },
  {
   "cell_type": "code",
   "execution_count": 3,
   "id": "3f9c42a6-04e8-4694-a5c0-37905ffde135",
   "metadata": {},
   "outputs": [],
   "source": [
    "main_folder_path='data'"
   ]
  },
  {
   "cell_type": "code",
   "execution_count": 4,
   "id": "f19954a1-6d6e-4e45-9fe2-d110ee2bdf4c",
   "metadata": {},
   "outputs": [
    {
     "name": "stderr",
     "output_type": "stream",
     "text": [
      "100%|██████████████████████████████████████████| 15/15 [00:00<00:00, 269.97it/s]\n",
      "100%|██████████████████████████████████████████| 21/21 [00:00<00:00, 347.97it/s]\n",
      "100%|██████████████████████████████████████████| 23/23 [00:00<00:00, 344.08it/s]\n",
      "100%|███████████████████████████████████████████| 13/13 [00:00<00:00, 94.31it/s]\n",
      "100%|██████████████████████████████████████████| 90/90 [00:00<00:00, 250.74it/s]\n",
      "100%|██████████████████████████████████████████| 51/51 [00:00<00:00, 272.98it/s]\n",
      "100%|████████████████████████████████████████| 120/120 [00:00<00:00, 241.58it/s]\n",
      "100%|██████████████████████████████████████████| 54/54 [00:00<00:00, 108.54it/s]\n",
      "100%|████████████████████████████████████████| 155/155 [00:00<00:00, 303.97it/s]\n",
      "100%|████████████████████████████████████████| 115/115 [00:00<00:00, 315.56it/s]\n",
      "100%|████████████████████████████████████████| 195/195 [00:00<00:00, 306.91it/s]\n",
      "100%|████████████████████████████████████████| 148/148 [00:01<00:00, 137.05it/s]\n"
     ]
    }
   ],
   "source": [
    "X,y=load_data(main_folder_path)"
   ]
  },
  {
   "cell_type": "markdown",
   "id": "50e34bbe-d7f0-4ed2-ae12-817be0c6831c",
   "metadata": {},
   "source": [
    "## Image segmentaion and feature extraction using the K means clustering and pre defined model VGG16"
   ]
  },
  {
   "cell_type": "markdown",
   "id": "6580873d-ccf6-4edd-8e5b-6ef4b1e83adf",
   "metadata": {},
   "source": [
    "#### Image segmentation"
   ]
  },
  {
   "cell_type": "code",
   "execution_count": 5,
   "id": "c38867d9-4741-4a8a-a5c9-e7d7ec6453ff",
   "metadata": {},
   "outputs": [
    {
     "name": "stderr",
     "output_type": "stream",
     "text": [
      "/Users/levi/anaconda3/envs/Tensorflow/lib/python3.11/site-packages/sklearn/cluster/_kmeans.py:870: FutureWarning: The default value of `n_init` will change from 10 to 'auto' in 1.4. Set the value of `n_init` explicitly to suppress the warning\n",
      "  warnings.warn(\n"
     ]
    },
    {
     "data": {
      "text/html": [
       "<style>#sk-container-id-1 {color: black;background-color: white;}#sk-container-id-1 pre{padding: 0;}#sk-container-id-1 div.sk-toggleable {background-color: white;}#sk-container-id-1 label.sk-toggleable__label {cursor: pointer;display: block;width: 100%;margin-bottom: 0;padding: 0.3em;box-sizing: border-box;text-align: center;}#sk-container-id-1 label.sk-toggleable__label-arrow:before {content: \"▸\";float: left;margin-right: 0.25em;color: #696969;}#sk-container-id-1 label.sk-toggleable__label-arrow:hover:before {color: black;}#sk-container-id-1 div.sk-estimator:hover label.sk-toggleable__label-arrow:before {color: black;}#sk-container-id-1 div.sk-toggleable__content {max-height: 0;max-width: 0;overflow: hidden;text-align: left;background-color: #f0f8ff;}#sk-container-id-1 div.sk-toggleable__content pre {margin: 0.2em;color: black;border-radius: 0.25em;background-color: #f0f8ff;}#sk-container-id-1 input.sk-toggleable__control:checked~div.sk-toggleable__content {max-height: 200px;max-width: 100%;overflow: auto;}#sk-container-id-1 input.sk-toggleable__control:checked~label.sk-toggleable__label-arrow:before {content: \"▾\";}#sk-container-id-1 div.sk-estimator input.sk-toggleable__control:checked~label.sk-toggleable__label {background-color: #d4ebff;}#sk-container-id-1 div.sk-label input.sk-toggleable__control:checked~label.sk-toggleable__label {background-color: #d4ebff;}#sk-container-id-1 input.sk-hidden--visually {border: 0;clip: rect(1px 1px 1px 1px);clip: rect(1px, 1px, 1px, 1px);height: 1px;margin: -1px;overflow: hidden;padding: 0;position: absolute;width: 1px;}#sk-container-id-1 div.sk-estimator {font-family: monospace;background-color: #f0f8ff;border: 1px dotted black;border-radius: 0.25em;box-sizing: border-box;margin-bottom: 0.5em;}#sk-container-id-1 div.sk-estimator:hover {background-color: #d4ebff;}#sk-container-id-1 div.sk-parallel-item::after {content: \"\";width: 100%;border-bottom: 1px solid gray;flex-grow: 1;}#sk-container-id-1 div.sk-label:hover label.sk-toggleable__label {background-color: #d4ebff;}#sk-container-id-1 div.sk-serial::before {content: \"\";position: absolute;border-left: 1px solid gray;box-sizing: border-box;top: 0;bottom: 0;left: 50%;z-index: 0;}#sk-container-id-1 div.sk-serial {display: flex;flex-direction: column;align-items: center;background-color: white;padding-right: 0.2em;padding-left: 0.2em;position: relative;}#sk-container-id-1 div.sk-item {position: relative;z-index: 1;}#sk-container-id-1 div.sk-parallel {display: flex;align-items: stretch;justify-content: center;background-color: white;position: relative;}#sk-container-id-1 div.sk-item::before, #sk-container-id-1 div.sk-parallel-item::before {content: \"\";position: absolute;border-left: 1px solid gray;box-sizing: border-box;top: 0;bottom: 0;left: 50%;z-index: -1;}#sk-container-id-1 div.sk-parallel-item {display: flex;flex-direction: column;z-index: 1;position: relative;background-color: white;}#sk-container-id-1 div.sk-parallel-item:first-child::after {align-self: flex-end;width: 50%;}#sk-container-id-1 div.sk-parallel-item:last-child::after {align-self: flex-start;width: 50%;}#sk-container-id-1 div.sk-parallel-item:only-child::after {width: 0;}#sk-container-id-1 div.sk-dashed-wrapped {border: 1px dashed gray;margin: 0 0.4em 0.5em 0.4em;box-sizing: border-box;padding-bottom: 0.4em;background-color: white;}#sk-container-id-1 div.sk-label label {font-family: monospace;font-weight: bold;display: inline-block;line-height: 1.2em;}#sk-container-id-1 div.sk-label-container {text-align: center;}#sk-container-id-1 div.sk-container {/* jupyter's `normalize.less` sets `[hidden] { display: none; }` but bootstrap.min.css set `[hidden] { display: none !important; }` so we also need the `!important` here to be able to override the default hidden behavior on the sphinx rendered scikit-learn.org. See: https://github.com/scikit-learn/scikit-learn/issues/21755 */display: inline-block !important;position: relative;}#sk-container-id-1 div.sk-text-repr-fallback {display: none;}</style><div id=\"sk-container-id-1\" class=\"sk-top-container\"><div class=\"sk-text-repr-fallback\"><pre>KMeans(n_clusters=2, random_state=42)</pre><b>In a Jupyter environment, please rerun this cell to show the HTML representation or trust the notebook. <br />On GitHub, the HTML representation is unable to render, please try loading this page with nbviewer.org.</b></div><div class=\"sk-container\" hidden><div class=\"sk-item\"><div class=\"sk-estimator sk-toggleable\"><input class=\"sk-toggleable__control sk-hidden--visually\" id=\"sk-estimator-id-1\" type=\"checkbox\" checked><label for=\"sk-estimator-id-1\" class=\"sk-toggleable__label sk-toggleable__label-arrow\">KMeans</label><div class=\"sk-toggleable__content\"><pre>KMeans(n_clusters=2, random_state=42)</pre></div></div></div></div></div>"
      ],
      "text/plain": [
       "KMeans(n_clusters=2, random_state=42)"
      ]
     },
     "execution_count": 5,
     "metadata": {},
     "output_type": "execute_result"
    }
   ],
   "source": [
    "kmeans=KMeans(n_clusters=2,random_state=42)\n",
    "X_flattened_images=X.reshape(X.shape[0],-1)\n",
    "kmeans.fit(X_flattened_images)"
   ]
  },
  {
   "cell_type": "code",
   "execution_count": 6,
   "id": "1a4cf3da-f1f8-43fe-b327-1b9ac0efd2d6",
   "metadata": {},
   "outputs": [],
   "source": [
    "X_image_clusters=kmeans.predict(X_flattened_images)"
   ]
  },
  {
   "cell_type": "markdown",
   "id": "1cd72c94-960a-4ebd-8e38-ef86177c7f5f",
   "metadata": {},
   "source": [
    "#### Encoding labels to 0,1,2 and 3"
   ]
  },
  {
   "cell_type": "code",
   "execution_count": 7,
   "id": "74093ef2-3e49-429f-ac76-48ad0d0cf1db",
   "metadata": {},
   "outputs": [],
   "source": [
    "from sklearn.preprocessing import OrdinalEncoder\n",
    "encoder=OrdinalEncoder()\n",
    "y_encoded=encoder.fit_transform(y.reshape(-1,1)).flatten()"
   ]
  },
  {
   "cell_type": "markdown",
   "id": "aa99a304-c031-45ac-b139-e9dc26e29ea7",
   "metadata": {},
   "source": [
    "#### Data splitting"
   ]
  },
  {
   "cell_type": "code",
   "execution_count": 8,
   "id": "1db8af0d-d081-4eac-acfd-88c6d80076d6",
   "metadata": {},
   "outputs": [],
   "source": [
    "X_train,X_test,y_train,y_test,X_cluster_train,X_cluster_test=train_test_split(X,y_encoded,\n",
    "                                                                             X_image_clusters,\n",
    "                                                                             test_size=0.3,\n",
    "                                                                             random_state=42)"
   ]
  },
  {
   "cell_type": "markdown",
   "id": "cb225ce1-151b-4660-8282-5266cd64b224",
   "metadata": {},
   "source": [
    "#### Loading VGG16 model for feature extraction"
   ]
  },
  {
   "cell_type": "code",
   "execution_count": 258,
   "id": "1a5c1599-89b0-4dd5-80ca-5e87bad41f39",
   "metadata": {},
   "outputs": [],
   "source": [
    "from tensorflow.keras.applications.vgg16 import VGG16\n",
    "from tensorflow.keras.applications.vgg16 import preprocess_input\n",
    "base_model=VGG16(weights='imagenet',include_top=False,input_shape=(224,224,3))\n",
    "# Freeze VGG16 layers\n",
    "for layer in base_model.layers:\n",
    "    layer.trainable = False"
   ]
  },
  {
   "cell_type": "markdown",
   "id": "11a8dc12-cf5f-4a84-8447-054d96ffb272",
   "metadata": {},
   "source": [
    "#### Preprocessing image before feature extraction"
   ]
  },
  {
   "cell_type": "code",
   "execution_count": 259,
   "id": "73cea55a-5b14-48b2-b489-02f9a7ae988f",
   "metadata": {},
   "outputs": [],
   "source": [
    "X_train_preprocessed=preprocess_input(X_train)\n",
    "X_test_preprocessed=preprocess_input(X_test)"
   ]
  },
  {
   "cell_type": "markdown",
   "id": "fb75499d-55c3-4983-bf1b-e6cfad048a24",
   "metadata": {},
   "source": [
    "#### Extracting features"
   ]
  },
  {
   "cell_type": "code",
   "execution_count": 260,
   "id": "db187231-991e-49b9-8a83-976cb87e9a2e",
   "metadata": {},
   "outputs": [
    {
     "name": "stdout",
     "output_type": "stream",
     "text": [
      "22/22 [==============================] - 144s 6s/step\n",
      "10/10 [==============================] - 73s 7s/step\n"
     ]
    }
   ],
   "source": [
    "X_train_features=base_model.predict(X_train_preprocessed)\n",
    "X_test_features=base_model.predict(X_test_preprocessed)"
   ]
  },
  {
   "cell_type": "markdown",
   "id": "fc78db3c-0e8d-4b6b-85dc-b3a761d4eb85",
   "metadata": {},
   "source": [
    "#### Reshapping training and testing set"
   ]
  },
  {
   "cell_type": "code",
   "execution_count": 261,
   "id": "e44bec99-eec5-4413-832c-782fa2f9b2a8",
   "metadata": {},
   "outputs": [],
   "source": [
    "X_train_flatten=X_train_features.reshape(X_train_features.shape[0],-1)\n",
    "X_test_flatten=X_test_features.reshape(X_test_features.shape[0],-1)"
   ]
  },
  {
   "cell_type": "markdown",
   "id": "e92ef571-3caa-43b0-aba6-d4faf8d2562d",
   "metadata": {},
   "source": [
    "# Model building"
   ]
  },
  {
   "cell_type": "markdown",
   "id": "2e02ea4d-8c29-4e2a-a487-2ad87af8c8b6",
   "metadata": {},
   "source": [
    "### SVM model"
   ]
  },
  {
   "cell_type": "code",
   "execution_count": 247,
   "id": "64fa6c03-3edd-4be5-be30-5bfc83a8668b",
   "metadata": {},
   "outputs": [
    {
     "name": "stdout",
     "output_type": "stream",
     "text": [
      "Accuracy of SVM classifier : 97.67%\n"
     ]
    }
   ],
   "source": [
    "from sklearn.svm import SVC\n",
    "svm_clf_model=SVC(kernel='linear',C=1.0)\n",
    "svm_clf_model.fit(np.concatenate([X_train_flatten,X_cluster_train.reshape(-1,1)],axis=1),\n",
    "                 y_train)\n",
    "y_pred_svm=svm_clf_model.predict(np.concatenate([X_test_flatten,X_cluster_test.reshape(-1,1)],axis=1))\n",
    "accuracy_score_svm=accuracy_score(y_pred_svm,y_test)\n",
    "print(f\"Accuracy of SVM classifier : {accuracy_score_svm*100:.2f}%\")"
   ]
  },
  {
   "cell_type": "markdown",
   "id": "6f252e10-53af-4403-abb1-9f8890050859",
   "metadata": {},
   "source": [
    "### Logistic Regression model"
   ]
  },
  {
   "cell_type": "code",
   "execution_count": 1,
   "id": "fea0a2f5-09c0-4c8e-b4ee-74ffe047ace6",
   "metadata": {},
   "outputs": [
    {
     "name": "stderr",
     "output_type": "stream",
     "text": [
      "python(2135) MallocStackLogging: can't turn off malloc stack logging because it was not enabled.\n"
     ]
    },
    {
     "ename": "NameError",
     "evalue": "name 'np' is not defined",
     "output_type": "error",
     "traceback": [
      "\u001b[0;31m---------------------------------------------------------------------------\u001b[0m",
      "\u001b[0;31mNameError\u001b[0m                                 Traceback (most recent call last)",
      "Cell \u001b[0;32mIn[1], line 3\u001b[0m\n\u001b[1;32m      1\u001b[0m \u001b[38;5;28;01mfrom\u001b[39;00m \u001b[38;5;21;01msklearn\u001b[39;00m\u001b[38;5;21;01m.\u001b[39;00m\u001b[38;5;21;01mlinear_model\u001b[39;00m \u001b[38;5;28;01mimport\u001b[39;00m LogisticRegression\n\u001b[1;32m      2\u001b[0m logr_clf_model\u001b[38;5;241m=\u001b[39mLogisticRegression(random_state\u001b[38;5;241m=\u001b[39m\u001b[38;5;241m42\u001b[39m)\n\u001b[0;32m----> 3\u001b[0m logr_clf_model\u001b[38;5;241m.\u001b[39mfit(\u001b[43mnp\u001b[49m\u001b[38;5;241m.\u001b[39mconcatenate([X_train_flatten,X_cluster_train\u001b[38;5;241m.\u001b[39mreshape(\u001b[38;5;241m-\u001b[39m\u001b[38;5;241m1\u001b[39m,\u001b[38;5;241m1\u001b[39m)],axis\u001b[38;5;241m=\u001b[39m\u001b[38;5;241m1\u001b[39m),\n\u001b[1;32m      4\u001b[0m                  y_train)\n\u001b[1;32m      5\u001b[0m y_pred_logr\u001b[38;5;241m=\u001b[39mlogr_clf_model\u001b[38;5;241m.\u001b[39mpredict(np\u001b[38;5;241m.\u001b[39mconcatenate([X_test_flatten,X_cluster_test\u001b[38;5;241m.\u001b[39mreshape(\u001b[38;5;241m-\u001b[39m\u001b[38;5;241m1\u001b[39m,\u001b[38;5;241m1\u001b[39m)],axis\u001b[38;5;241m=\u001b[39m\u001b[38;5;241m1\u001b[39m))\n\u001b[1;32m      6\u001b[0m accuracy_score_logr\u001b[38;5;241m=\u001b[39maccuracy_score(y_pred_logr,y_test)\n",
      "\u001b[0;31mNameError\u001b[0m: name 'np' is not defined"
     ]
    }
   ],
   "source": [
    "from sklearn.linear_model import LogisticRegression\n",
    "logr_clf_model=LogisticRegression(random_state=42)\n",
    "logr_clf_model.fit(np.concatenate([X_train_flatten,X_cluster_train.reshape(-1,1)],axis=1),\n",
    "                 y_train)\n",
    "y_pred_logr=logr_clf_model.predict(np.concatenate([X_test_flatten,X_cluster_test.reshape(-1,1)],axis=1))\n",
    "accuracy_score_logr=accuracy_score(y_pred_logr,y_test)\n",
    "print(f\"Accuracy of Logistic Regression classifier : {accuracy_score_logr*100:.2f}%\")"
   ]
  },
  {
   "cell_type": "markdown",
   "id": "d6b31076-9197-467a-868f-a28d6cbf869b",
   "metadata": {},
   "source": [
    "### SVM and Logistic regression performance measures"
   ]
  },
  {
   "cell_type": "code",
   "execution_count": 258,
   "id": "aab86e95-5a1b-4bf3-8d05-d6de1002c8a3",
   "metadata": {},
   "outputs": [
    {
     "name": "stdout",
     "output_type": "stream",
     "text": [
      "Accuracy of SVM classifier : 97.67%\n",
      "SVM Precision: 97.69%\n",
      "SVM Recall: 97.67%\n",
      "SVM F1 Score: 97.67%\n",
      "Accuracy of Logistic Regression classifier : 96.67%\n",
      "Logistic Regression Precision: 96.70%\n",
      "Logistic Regression Recall: 96.67%\n",
      "Logistic Regression F1 Score: 96.67%\n"
     ]
    }
   ],
   "source": [
    "from sklearn.metrics import precision_score, recall_score, f1_score\n",
    "\n",
    "# Assuming svm_clf and logr_clf are your trained SVM and Logistic Regression models\n",
    "# y_test, y_pred_svm, and y_pred_logr are your test labels and predictions\n",
    "\n",
    "# SVM\n",
    "svm_precision = precision_score(y_test, y_pred_svm, average='weighted')\n",
    "svm_recall = recall_score(y_test, y_pred_svm, average='weighted')\n",
    "svm_f1 = f1_score(y_test, y_pred_svm, average='weighted')\n",
    "\n",
    "# Logistic Regression\n",
    "logr_precision = precision_score(y_test, y_pred_logr, average='weighted')\n",
    "logr_recall = recall_score(y_test, y_pred_logr, average='weighted')\n",
    "logr_f1 = f1_score(y_test, y_pred_logr, average='weighted')\n",
    "print(f\"Accuracy of SVM classifier : {accuracy_score_svm*100:.2f}%\")\n",
    "print(f\"SVM Precision: {svm_precision*100:.2f}%\")\n",
    "print(f\"SVM Recall: {svm_recall*100:.2f}%\")\n",
    "print(f\"SVM F1 Score: {svm_f1*100:.2f}%\")\n",
    "print(f\"Accuracy of Logistic Regression classifier : {accuracy_score_logr*100:.2f}%\")\n",
    "print(f\"Logistic Regression Precision: {logr_precision*100:.2f}%\")\n",
    "print(f\"Logistic Regression Recall: {logr_recall*100:.2f}%\")\n",
    "print(f\"Logistic Regression F1 Score: {logr_f1*100:.2f}%\")"
   ]
  },
  {
   "cell_type": "markdown",
   "id": "0ad7d2f7-3a54-4647-9387-f6b9bf1dbbbb",
   "metadata": {},
   "source": [
    "## Other different models"
   ]
  },
  {
   "cell_type": "markdown",
   "id": "16baf0e1-9f1a-4a5e-ad10-757abc056441",
   "metadata": {},
   "source": [
    "### XGBoost model"
   ]
  },
  {
   "cell_type": "code",
   "execution_count": 200,
   "id": "ca43307d-fba3-4bcf-8b88-833f004fa140",
   "metadata": {},
   "outputs": [
    {
     "name": "stdout",
     "output_type": "stream",
     "text": [
      "Accuracy of XGBoost classifier : 92.67%\n"
     ]
    }
   ],
   "source": [
    "from xgboost import XGBClassifier\n",
    "xgb_clf_model=XGBClassifier()\n",
    "xgb_clf_model.fit(np.concatenate([X_train_flatten,X_cluster_train.reshape(-1,1)],axis=1),\n",
    "                 y_train)\n",
    "y_pred_xgb=xgb_clf_model.predict(np.concatenate([X_test_flatten,X_cluster_test.reshape(-1,1)],axis=1))\n",
    "accuracy_score_xgb=accuracy_score(y_pred_xgb,y_test)\n",
    "print(f\"Accuracy of XGBoost classifier : {accuracy_score_xgb*100:.2f}%\")"
   ]
  },
  {
   "cell_type": "markdown",
   "id": "05f87e65-ed93-4256-9bb9-0442489593eb",
   "metadata": {},
   "source": [
    "### Decision Tree model"
   ]
  },
  {
   "cell_type": "code",
   "execution_count": 207,
   "id": "8d12cabd-e852-4ab9-a222-891ae48d15fb",
   "metadata": {},
   "outputs": [
    {
     "name": "stdout",
     "output_type": "stream",
     "text": [
      "Accuracy of Decision Tree classifier : 72.33%\n"
     ]
    }
   ],
   "source": [
    "from sklearn.tree import DecisionTreeClassifier\n",
    "dt_clf_model=DecisionTreeClassifier(max_depth=10)\n",
    "dt_clf_model.fit(np.concatenate([X_train_flatten,X_cluster_train.reshape(-1,1)],axis=1),y_train)\n",
    "y_pred_dt=dt_clf_model.predict(np.concatenate([X_test_flatten,X_cluster_test.reshape(-1,1)],axis=1))\n",
    "accuracy_score_dt=accuracy_score(y_pred_dt,y_test)\n",
    "print(f\"Accuracy of Decision Tree classifier : {accuracy_score_dt*100:.2f}%\")"
   ]
  },
  {
   "cell_type": "markdown",
   "id": "6f9c6ff8-41f8-4542-9f91-e1f25147cd8e",
   "metadata": {},
   "source": [
    "### Random Forest model"
   ]
  },
  {
   "cell_type": "code",
   "execution_count": 209,
   "id": "8bf5fcce-b59c-4db1-aad7-1584a98084b6",
   "metadata": {},
   "outputs": [
    {
     "name": "stdout",
     "output_type": "stream",
     "text": [
      "Accuracy of Random Forest classifier : 91.00%\n"
     ]
    }
   ],
   "source": [
    "from sklearn.ensemble import RandomForestClassifier\n",
    "rf_clf_model=RandomForestClassifier(max_depth=100)\n",
    "rf_clf_model.fit(np.concatenate([X_train_flatten,X_cluster_train.reshape(-1,1)],axis=1),y_train)\n",
    "y_pred_rf=rf_clf_model.predict(np.concatenate([X_test_flatten,X_cluster_test.reshape(-1,1)],axis=1))\n",
    "accuracy_score_rf=accuracy_score(y_pred_rf,y_test)\n",
    "print(f\"Accuracy of Random Forest classifier : {accuracy_score_rf*100:.2f}%\")"
   ]
  },
  {
   "cell_type": "markdown",
   "id": "82d6c51c-2366-4772-b946-5838071ff079",
   "metadata": {},
   "source": [
    "### Ensemble model with voting classifier model"
   ]
  },
  {
   "cell_type": "code",
   "execution_count": 210,
   "id": "6b13ab5f-d754-4725-951d-c15d064cf4f3",
   "metadata": {},
   "outputs": [
    {
     "name": "stdout",
     "output_type": "stream",
     "text": [
      "Accuracy of Voting classifier : 91.00%\n"
     ]
    }
   ],
   "source": [
    "from sklearn.ensemble import VotingClassifier\n",
    "voting_model=VotingClassifier(estimators=[('Random Forest',RandomForestClassifier()),\n",
    "                                          ('XGBoost',XGBClassifier())],voting='soft')\n",
    "voting_model.fit(np.concatenate([X_train_flatten,X_cluster_train.reshape(-1,1)],axis=1),y_train)\n",
    "y_pred_vm=rf_clf_model.predict(np.concatenate([X_test_flatten,X_cluster_test.reshape(-1,1)],axis=1))\n",
    "accuracy_score_vm=accuracy_score(y_pred_vm,y_test)\n",
    "print(f\"Accuracy of Voting classifier : {accuracy_score_vm*100:.2f}%\")"
   ]
  },
  {
   "cell_type": "markdown",
   "id": "a1640d6a-9de4-41a4-9d85-e5324d8aaa3b",
   "metadata": {},
   "source": [
    "### KNN model"
   ]
  },
  {
   "cell_type": "code",
   "execution_count": 211,
   "id": "88ac6906-36f8-4f76-8f06-56d229cf1ca4",
   "metadata": {},
   "outputs": [
    {
     "name": "stdout",
     "output_type": "stream",
     "text": [
      "Accuracy of KNN classifier : 95.67%\n"
     ]
    }
   ],
   "source": [
    "from sklearn.neighbors import KNeighborsClassifier\n",
    "knn_clf_model=KNeighborsClassifier(n_neighbors=1)\n",
    "knn_clf_model.fit(np.concatenate([X_train_flatten,X_cluster_train.reshape(-1,1)],axis=1),y_train)\n",
    "y_pred_knn=knn_clf_model.predict(np.concatenate([X_test_flatten,X_cluster_test.reshape(-1,1)],axis=1))\n",
    "accuracy_score_knn=accuracy_score(y_pred_knn,y_test)\n",
    "print(f\"Accuracy of KNN classifier : {accuracy_score_knn*100:.2f}%\")"
   ]
  },
  {
   "cell_type": "markdown",
   "id": "fabb2995-2290-493b-90e0-5be1799aaade",
   "metadata": {},
   "source": [
    "## Forward Propagation Neural Network(VGG16 based)"
   ]
  },
  {
   "cell_type": "markdown",
   "id": "cf52ed62-a2a7-4067-be7c-528d38929a10",
   "metadata": {},
   "source": [
    "#### Reshapping VGG16 processed data"
   ]
  },
  {
   "cell_type": "code",
   "execution_count": 270,
   "id": "e2d1d025-4065-4692-967b-fce4bda264cc",
   "metadata": {},
   "outputs": [],
   "source": [
    "input_shape=X_train_flatten.shape[1]+1"
   ]
  },
  {
   "cell_type": "markdown",
   "id": "20b63984-032b-4520-bfe1-918556c1383a",
   "metadata": {},
   "source": [
    "#### Building neural network"
   ]
  },
  {
   "cell_type": "code",
   "execution_count": 346,
   "id": "a9f9164b-e23e-4bfb-aa98-3e995bee8ae6",
   "metadata": {},
   "outputs": [
    {
     "name": "stdout",
     "output_type": "stream",
     "text": [
      "Epoch 1/10\n",
      "22/22 [==============================] - 0s 7ms/step - loss: 0.8810 - accuracy: 0.7186\n",
      "Epoch 2/10\n",
      "22/22 [==============================] - 0s 8ms/step - loss: 0.2217 - accuracy: 0.9414\n",
      "Epoch 3/10\n",
      "22/22 [==============================] - 0s 15ms/step - loss: 0.1057 - accuracy: 0.9886\n",
      "Epoch 4/10\n",
      "22/22 [==============================] - 0s 11ms/step - loss: 0.0759 - accuracy: 0.9900\n",
      "Epoch 5/10\n",
      "22/22 [==============================] - 0s 11ms/step - loss: 0.0534 - accuracy: 0.9986\n",
      "Epoch 6/10\n",
      "22/22 [==============================] - 0s 10ms/step - loss: 0.0523 - accuracy: 0.9986\n",
      "Epoch 7/10\n",
      "22/22 [==============================] - 0s 10ms/step - loss: 0.0562 - accuracy: 0.9957\n",
      "Epoch 8/10\n",
      "22/22 [==============================] - 0s 10ms/step - loss: 0.0424 - accuracy: 0.9971\n",
      "Epoch 9/10\n",
      "22/22 [==============================] - 0s 10ms/step - loss: 0.0328 - accuracy: 1.0000\n",
      "Epoch 10/10\n",
      "22/22 [==============================] - 0s 13ms/step - loss: 0.0375 - accuracy: 0.9986\n",
      "10/10 [==============================] - 0s 4ms/step\n",
      "Accuracy of VGG16-based classifier: 99.33%\n"
     ]
    }
   ],
   "source": [
    "from tensorflow.keras import models, layers\n",
    "from tensorflow.keras.layers import Flatten, Dense, Dropout, BatchNormalization\n",
    "import tensorflow as tf\n",
    "\n",
    "custom_model = models.Sequential()\n",
    "custom_model.add(Flatten(input_shape=(input_shape,)))\n",
    "custom_model.add(Dense(128, activation='relu', kernel_regularizer=tf.keras.regularizers.l2(0.0001)))\n",
    "custom_model.add(BatchNormalization())\n",
    "custom_model.add(Dropout(0.3))\n",
    "# custom_model.add(Dense(32, activation='relu', kernel_regularizer=tf.keras.regularizers.l2(0.01)))\n",
    "# custom_model.add(BatchNormalization())\n",
    "# custom_model.add(Dropout(0.3))\n",
    "custom_model.add(Dense(len(np.unique(y_train)), activation='softmax'))\n",
    "# Compile the model\n",
    "custom_model.compile(optimizer='adam',\n",
    "                     loss='sparse_categorical_crossentropy',\n",
    "                     metrics=['accuracy'])\n",
    "\n",
    "# Train the model\n",
    "history = custom_model.fit(np.concatenate([X_train_flatten,X_cluster_train.reshape(-1,1)],axis=1),\n",
    "    y_train,\n",
    "    epochs=10,\n",
    "    batch_size=32)\n",
    "\n",
    "# Evaluate the model on the test set\n",
    "y_pred_vgg16 = np.argmax(custom_model.predict(np.concatenate([X_test_flatten, X_cluster_test.reshape(-1, 1)], axis=1)), axis=1)\n",
    "accuracy_score_vgg16 = accuracy_score(y_pred_vgg16, y_test)\n",
    "print(f\"Accuracy of VGG16-based classifier: {accuracy_score_vgg16*100:.2f}%\")\n"
   ]
  },
  {
   "cell_type": "code",
   "execution_count": 347,
   "id": "0afb8d10-53fe-4247-b1cf-0e676ac10675",
   "metadata": {},
   "outputs": [
    {
     "name": "stdout",
     "output_type": "stream",
     "text": [
      "Precision of VGG16-based classifier: 0.99\n",
      "Recall of VGG16-based classifier: 0.99\n",
      "F1 Score of VGG16-based classifier: 0.99\n",
      "AUC of VGG16-based classifier: 1.00\n",
      "Specificity of VGG16-based classifier: 0.99\n"
     ]
    }
   ],
   "source": [
    "from sklearn.metrics import precision_score, recall_score, f1_score, roc_auc_score, confusion_matrix\n",
    "from sklearn.preprocessing import label_binarize\n",
    "from sklearn.metrics import roc_curve, auc\n",
    "import numpy as np\n",
    "\n",
    "\n",
    "# Precision\n",
    "precision_vgg16 = precision_score(y_test, y_pred_vgg16, average='weighted')\n",
    "\n",
    "# Recall\n",
    "recall_vgg16 = recall_score(y_test, y_pred_vgg16, average='weighted')\n",
    "\n",
    "# F1 Score\n",
    "f1_score_vgg16 = f1_score(y_test, y_pred_vgg16, average='weighted')\n",
    "\n",
    "# AUC Score for Multiclass\n",
    "# Binarize the labels and calculate AUC for each class\n",
    "y_test_bin = label_binarize(y_test, classes=np.unique(y_test))\n",
    "y_pred_bin = label_binarize(y_pred_vgg16, classes=np.unique(y_test))\n",
    "\n",
    "n_classes = len(np.unique(y_test))\n",
    "auc_score_vgg16 = np.zeros(n_classes)\n",
    "\n",
    "for i in range(n_classes):\n",
    "    fpr, tpr, _ = roc_curve(y_test_bin[:, i], y_pred_bin[:, i])\n",
    "    auc_score_vgg16[i] = auc(fpr, tpr)\n",
    "\n",
    "# Average the AUC scores across all classes\n",
    "average_auc_score_vgg16 = np.mean(auc_score_vgg16)\n",
    "\n",
    "# Confusion Matrix for Multiclass\n",
    "conf_matrix_vgg16 = confusion_matrix(y_test, y_pred_vgg16)\n",
    "\n",
    "# Specificity\n",
    "specificity_vgg16 = np.diag(conf_matrix_vgg16) / np.sum(conf_matrix_vgg16, axis=1)\n",
    "\n",
    "# Print the results\n",
    "print(f\"Precision of VGG16-based classifier: {precision_vgg16:.2f}\")\n",
    "print(f\"Recall of VGG16-based classifier: {recall_vgg16:.2f}\")\n",
    "print(f\"F1 Score of VGG16-based classifier: {f1_score_vgg16:.2f}\")\n",
    "print(f\"AUC of VGG16-based classifier: {average_auc_score_vgg16:.2f}\")\n",
    "print(f\"Specificity of VGG16-based classifier: {np.mean(specificity_vgg16):.2f}\")\n"
   ]
  },
  {
   "cell_type": "code",
   "execution_count": 291,
   "id": "875a2f42-bf1c-4175-ba40-2ca2eb1f51f9",
   "metadata": {},
   "outputs": [
    {
     "name": "stdout",
     "output_type": "stream",
     "text": [
      "5/5 [==============================] - 0s 3ms/step\n",
      "5/5 [==============================] - 0s 3ms/step\n",
      "5/5 [==============================] - 0s 2ms/step\n",
      "5/5 [==============================] - 0s 2ms/step\n",
      "5/5 [==============================] - 0s 3ms/step\n",
      "5/5 [==============================] - 0s 2ms/step\n",
      "5/5 [==============================] - 0s 2ms/step\n",
      "5/5 [==============================] - 0s 3ms/step\n",
      "5/5 [==============================] - 0s 2ms/step\n",
      "5/5 [==============================] - 0s 3ms/step\n",
      "Average Accuracy over 5 folds: 95.43%\n",
      "Average Precision over 5 folds: 95.51\n",
      "Average Recall over 5 folds: 95.43\n",
      "Average F1 Score over 5 folds: 95.42\n",
      "Average Matthews Correlation Coefficient (MCC) over 5 folds: 0.9384\n",
      "Average Cohen's Kappa over 5 folds: 0.9381\n",
      "Average ROC AUC Score over 5 folds: 0.9912\n"
     ]
    }
   ],
   "source": [
    "from sklearn.model_selection import StratifiedKFold\n",
    "from sklearn.metrics import accuracy_score, precision_score, recall_score, f1_score, matthews_corrcoef, cohen_kappa_score, roc_auc_score\n",
    "from tensorflow.keras import models, layers\n",
    "from tensorflow.keras.layers import Flatten, Dense, Dropout, BatchNormalization\n",
    "import tensorflow as tf\n",
    "\n",
    "# Assuming X_train_flatten, X_cluster_train, y_train are your training data\n",
    "X_train_combined = np.concatenate([X_train_flatten, X_cluster_train.reshape(-1, 1)], axis=1)\n",
    "y_train_array = np.array(y_train)\n",
    "\n",
    "# Initialize StratifiedKFold with 5 folds\n",
    "kf = StratifiedKFold(n_splits=5, shuffle=True, random_state=42)\n",
    "\n",
    "# Lists to store evaluation metrics for each fold\n",
    "accuracy_scores = []\n",
    "precision_scores = []\n",
    "recall_scores = []\n",
    "f1_scores = []\n",
    "mcc_scores = []\n",
    "kappa_scores = []\n",
    "roc_auc_scores = []\n",
    "\n",
    "# Iterate through each fold\n",
    "for train_index, test_index in kf.split(X_train_combined, y_train_array):\n",
    "    X_train_fold, X_val_fold = X_train_combined[train_index], X_train_combined[test_index]\n",
    "    y_train_fold, y_val_fold = y_train_array[train_index], y_train_array[test_index]\n",
    "\n",
    "    # Create and compile the model\n",
    "    custom_model = models.Sequential()\n",
    "    custom_model.add(Flatten(input_shape=(input_shape,)))\n",
    "    custom_model.add(Dense(128, activation='relu', kernel_regularizer=tf.keras.regularizers.l2(0.0001)))\n",
    "    custom_model.add(BatchNormalization())\n",
    "    custom_model.add(Dropout(0.3))\n",
    "    custom_model.add(Dense(len(np.unique(y_train)), activation='softmax'))\n",
    "    custom_model.compile(optimizer='adam',\n",
    "                         loss='sparse_categorical_crossentropy',\n",
    "                         metrics=['accuracy'])\n",
    "\n",
    "    # Train the model on the current fold\n",
    "    custom_model.fit(X_train_fold, y_train_fold, epochs=10, batch_size=32, verbose=0)\n",
    "\n",
    "    # Evaluate the model on the validation set of the current fold\n",
    "    y_pred_fold = np.argmax(custom_model.predict(X_val_fold), axis=1)\n",
    "    \n",
    "    # Calculate evaluation metrics for the current fold\n",
    "    accuracy_fold = accuracy_score(y_val_fold, y_pred_fold)\n",
    "    precision_fold = precision_score(y_val_fold, y_pred_fold, average='weighted')\n",
    "    recall_fold = recall_score(y_val_fold, y_pred_fold, average='weighted')\n",
    "    f1_fold = f1_score(y_val_fold, y_pred_fold, average='weighted')\n",
    "    mcc_fold = matthews_corrcoef(y_val_fold, y_pred_fold)\n",
    "    kappa_fold = cohen_kappa_score(y_val_fold, y_pred_fold)\n",
    "    roc_auc_fold = roc_auc_score(y_val_fold, custom_model.predict(X_val_fold), multi_class='ovr')\n",
    "\n",
    "    # Append scores to respective lists\n",
    "    accuracy_scores.append(accuracy_fold)\n",
    "    precision_scores.append(precision_fold)\n",
    "    recall_scores.append(recall_fold)\n",
    "    f1_scores.append(f1_fold)\n",
    "    mcc_scores.append(mcc_fold)\n",
    "    kappa_scores.append(kappa_fold)\n",
    "    roc_auc_scores.append(roc_auc_fold)\n",
    "\n",
    "# Calculate the average scores over all folds\n",
    "average_accuracy = np.mean(accuracy_scores)\n",
    "average_precision = np.mean(precision_scores)\n",
    "average_recall = np.mean(recall_scores)\n",
    "average_f1 = np.mean(f1_scores)\n",
    "average_mcc = np.mean(mcc_scores)\n",
    "average_kappa = np.mean(kappa_scores)\n",
    "average_roc_auc = np.mean(roc_auc_scores)\n",
    "\n",
    "# Print the average scores\n",
    "print(f\"Average Accuracy over 5 folds: {average_accuracy*100:.2f}%\")\n",
    "print(f\"Average Precision over 5 folds: {average_precision*100:.2f}\")\n",
    "print(f\"Average Recall over 5 folds: {average_recall*100:.2f}\")\n",
    "print(f\"Average F1 Score over 5 folds: {average_f1*100:.2f}\")\n",
    "print(f\"Average Matthews Correlation Coefficient (MCC) over 5 folds: {average_mcc:.4f}\")\n",
    "print(f\"Average Cohen's Kappa over 5 folds: {average_kappa:.4f}\")\n",
    "print(f\"Average ROC AUC Score over 5 folds: {average_roc_auc:.4f}\")\n"
   ]
  }
 ],
 "metadata": {
  "kernelspec": {
   "display_name": "tensorflow",
   "language": "python",
   "name": "tensorflow"
  },
  "language_info": {
   "codemirror_mode": {
    "name": "ipython",
    "version": 3
   },
   "file_extension": ".py",
   "mimetype": "text/x-python",
   "name": "python",
   "nbconvert_exporter": "python",
   "pygments_lexer": "ipython3",
   "version": "3.10.14"
  }
 },
 "nbformat": 4,
 "nbformat_minor": 5
}
